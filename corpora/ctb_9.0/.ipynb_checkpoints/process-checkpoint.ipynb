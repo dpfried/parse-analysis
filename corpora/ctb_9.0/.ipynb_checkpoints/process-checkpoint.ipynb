{
 "cells": [
  {
   "cell_type": "code",
   "execution_count": 1,
   "metadata": {},
   "outputs": [],
   "source": [
    "import sys"
   ]
  },
  {
   "cell_type": "code",
   "execution_count": 2,
   "metadata": {},
   "outputs": [
    {
     "data": {
      "text/plain": [
       "'/home/dfried/projects/parse-analysis/corpora/ctb_9.0'"
      ]
     },
     "execution_count": 2,
     "metadata": {},
     "output_type": "execute_result"
    }
   ],
   "source": [
    "pwd"
   ]
  },
  {
   "cell_type": "code",
   "execution_count": 3,
   "metadata": {},
   "outputs": [],
   "source": [
    "sys.path.append(\"../ctb_5.1/\")"
   ]
  },
  {
   "cell_type": "code",
   "execution_count": 4,
   "metadata": {},
   "outputs": [],
   "source": [
    "import process_ctb"
   ]
  },
  {
   "cell_type": "code",
   "execution_count": 5,
   "metadata": {},
   "outputs": [],
   "source": [
    "import nltk"
   ]
  },
  {
   "cell_type": "code",
   "execution_count": 6,
   "metadata": {},
   "outputs": [],
   "source": [
    "corpus_root = \"/home/dfried/data/ctb_9.0/data/\"\n",
    "nltk_out_root = \"/home/dfried/nltk_data/corpora/ctb_9.0/\""
   ]
  },
  {
   "cell_type": "code",
   "execution_count": 7,
   "metadata": {},
   "outputs": [],
   "source": [
    "process_ctb.convert(corpus_root, nltk_out_root, encoding='utf-8', filter_fn=lambda _: True)"
   ]
  },
  {
   "cell_type": "code",
   "execution_count": 8,
   "metadata": {},
   "outputs": [],
   "source": [
    "from nltk.corpus import BracketParseCorpusReader, LazyCorpusLoader"
   ]
  },
  {
   "cell_type": "code",
   "execution_count": 9,
   "metadata": {},
   "outputs": [],
   "source": [
    "ctb_9 = LazyCorpusLoader(\"ctb_9.0\", BracketParseCorpusReader, r'chtb_.*', tagset='unknown')"
   ]
  },
  {
   "cell_type": "code",
   "execution_count": 10,
   "metadata": {},
   "outputs": [],
   "source": [
    "import itertools"
   ]
  },
  {
   "cell_type": "code",
   "execution_count": 11,
   "metadata": {},
   "outputs": [],
   "source": [
    "itertools.product?"
   ]
  },
  {
   "cell_type": "code",
   "execution_count": 19,
   "metadata": {},
   "outputs": [
    {
     "name": "stdout",
     "output_type": "stream",
     "text": [
      "Generating train.gold.original\n",
      "no file found for id 1079\n",
      "no file found for id 1080\n",
      "no file found for id 1081\n",
      "no file found for id 1082\n",
      "no file found for id 1083\n",
      "no file found for id 1084\n",
      "no file found for id 1085\n",
      "no file found for id 1086\n",
      "no file found for id 1087\n",
      "no file found for id 1088\n",
      "no file found for id 1089\n",
      "no file found for id 1090\n",
      "no file found for id 1091\n",
      "no file found for id 1092\n",
      "no file found for id 1093\n",
      "no file found for id 1094\n",
      "no file found for id 1095\n",
      "no file found for id 1096\n",
      "no file found for id 1097\n",
      "no file found for id 1098\n",
      "no file found for id 1099\n",
      "795 files...\n",
      "100.00%\n",
      "17544 sentences.\n",
      "\n",
      "Generating dev.gold.original\n",
      "25 files...\n",
      "100.00%\n",
      "352 sentences.\n",
      "\n",
      "Generating test.gold.original\n",
      "30 files...\n",
      "100.00%\n",
      "348 sentences.\n",
      "\n",
      "Generating newswire.gold.original\n",
      "51 files...\n",
      "100.00%\n",
      "330 sentences.\n",
      "\n",
      "Generating broadcast_news.gold.original\n",
      "1207 files...\n",
      "100.00%\n",
      "10083 sentences.\n",
      "\n",
      "Generating broadcast_conversations.gold.original\n",
      "86 files...\n",
      "100.00%\n",
      "12049 sentences.\n",
      "\n",
      "Generating weblogs.gold.original\n",
      "214 files...\n",
      "100.00%\n",
      "10181 sentences.\n",
      "\n",
      "Generating discussion_forums.gold.original\n",
      "559 files...\n",
      "100.00%\n",
      "19926 sentences.\n",
      "\n",
      "Generating chat_messages.gold.original\n",
      "701 files...\n",
      "100.00%\n",
      "43959 sentences.\n",
      "\n",
      "Generating conversational_speech.gold.original\n",
      "18 files...\n",
      "100.00%\n",
      "16748 sentences.\n",
      "\n"
     ]
    }
   ],
   "source": [
    "# 541-554 are not mentioned in the CTB 9.0 readme, but are present\n",
    "training = [(1, 270), (440, 454), (500, 540), (541, 554), (590, 596), (600, 885), (900, 931), (1001, 1151)]\n",
    "development = [(301, 325)]\n",
    "test = [(271, 300)] \n",
    "\n",
    "other_splits = {\n",
    "    'newswire': [(4000, 4050)],\n",
    "    'broadcast_news': [(2000, 3145), (4051, 4111)],\n",
    "    'broadcast_conversations': [(4112, 4197)],\n",
    "    'weblogs': [(4198, 4411)],\n",
    "    'discussion_forums': [(5000, 5558)],\n",
    "    'chat_messages': [(6000, 6700)],\n",
    "    'conversational_speech': [(7000, 7017)]\n",
    "}\n",
    "\n",
    "def files_from_boundaries(boundaries_list):\n",
    "    l = []\n",
    "    for boundaries in boundaries_list:\n",
    "        l += list(range(boundaries[0], boundaries[1] + 1))\n",
    "    return l\n",
    "\n",
    "# make sure there's no overlap\n",
    "for bound_l_1, bound_l_2 in itertools.combinations([training, development, test] + list(other_splits.values()), 2):\n",
    "    files_1 = files_from_boundaries(bound_l_1)\n",
    "    files_2 = files_from_boundaries(bound_l_2)\n",
    "    assert not (set(files_1) & set(files_2))\n",
    "\n",
    "#print(\"total num files: %d\" % len(training + development + test))\n",
    "\n",
    "process_ctb.combine_fids(ctb_9, nltk_out_root, files_from_boundaries(training), 'train.gold.original', suffix_glob='*', pad_hundreds=True)\n",
    "process_ctb.combine_fids(ctb_9, nltk_out_root, files_from_boundaries(development), 'dev.gold.original', suffix_glob='*', pad_hundreds=True)\n",
    "process_ctb.combine_fids(ctb_9, nltk_out_root, files_from_boundaries(test), 'test.gold.original', suffix_glob='*', pad_hundreds=True)\n",
    "for split, boundaries in other_splits.items():\n",
    "    process_ctb.combine_fids(ctb_9, nltk_out_root, files_from_boundaries(boundaries), '{}.gold.original'.format(split), suffix_glob='*', pad_hundreds=True)"
   ]
  }
 ],
 "metadata": {
  "kernelspec": {
   "display_name": "Python 3",
   "language": "python",
   "name": "python3"
  },
  "language_info": {
   "codemirror_mode": {
    "name": "ipython",
    "version": 3
   },
   "file_extension": ".py",
   "mimetype": "text/x-python",
   "name": "python",
   "nbconvert_exporter": "python",
   "pygments_lexer": "ipython3",
   "version": "3.6.8"
  }
 },
 "nbformat": 4,
 "nbformat_minor": 2
}
