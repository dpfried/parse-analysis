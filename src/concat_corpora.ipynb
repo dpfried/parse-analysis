{
 "cells": [
  {
   "cell_type": "code",
   "execution_count": 12,
   "metadata": {},
   "outputs": [],
   "source": [
    "from parsers import SHIFT_REDUCE_MODELS, CHART_MODELS, ALL_MODELS, ENGLISH_MODELS"
   ]
  },
  {
   "cell_type": "code",
   "execution_count": 2,
   "metadata": {},
   "outputs": [],
   "source": [
    "from load_corpora import ENGLISH_CORPORA_NAMES, CORPORA_FILES, DECODE_NAME_NORM"
   ]
  },
  {
   "cell_type": "code",
   "execution_count": 3,
   "metadata": {},
   "outputs": [
    {
     "data": {
      "text/plain": [
       "['brown_all',\n",
       " 'brown_cf',\n",
       " 'brown_cg',\n",
       " 'brown_ck',\n",
       " 'brown_cl',\n",
       " 'brown_cm',\n",
       " 'brown_cn',\n",
       " 'brown_cp',\n",
       " 'brown_cr',\n",
       " 'brown_test',\n",
       " 'brown_test40',\n",
       " 'brown_train',\n",
       " 'ewt_all',\n",
       " 'ewt_answers_dev',\n",
       " 'ewt_answers_test',\n",
       " 'ewt_email_dev',\n",
       " 'ewt_email_test',\n",
       " 'ewt_newsgroup_dev',\n",
       " 'ewt_newsgroup_test',\n",
       " 'ewt_reviews_dev',\n",
       " 'ewt_reviews_test',\n",
       " 'ewt_weblog_dev',\n",
       " 'ewt_weblog_test',\n",
       " 'genia_all',\n",
       " 'genia_dev',\n",
       " 'genia_test',\n",
       " 'genia_train',\n",
       " 'wsj_dev',\n",
       " 'wsj_test',\n",
       " 'wsj_test_dis',\n",
       " 'wsj_test_mwp_dis',\n",
       " 'wsj_test_mwp_sim',\n",
       " 'wsj_test_sim',\n",
       " 'wsj_test_v0g0',\n",
       " 'wsj_test_v0g1',\n",
       " 'wsj_test_v1g0',\n",
       " 'wsj_test_v1g1',\n",
       " 'wsj_test_vocab_dis',\n",
       " 'wsj_test_vocab_sim',\n",
       " 'wsj_train']"
      ]
     },
     "execution_count": 3,
     "metadata": {},
     "output_type": "execute_result"
    }
   ],
   "source": [
    "ENGLISH_CORPORA_NAMES"
   ]
  },
  {
   "cell_type": "code",
   "execution_count": 4,
   "metadata": {},
   "outputs": [],
   "source": [
    "from decode_analysis import get_predicted_file"
   ]
  },
  {
   "cell_type": "code",
   "execution_count": 5,
   "metadata": {},
   "outputs": [],
   "source": [
    "import subprocess"
   ]
  },
  {
   "cell_type": "code",
   "execution_count": 6,
   "metadata": {},
   "outputs": [],
   "source": [
    "def concat(input_files, output_file):\n",
    "    command = \"cat {} > {}\".format(' '.join(input_files), output_file)\n",
    "    #print(command)\n",
    "    proc = subprocess.run(command, shell=True, stderr=subprocess.PIPE)\n",
    "    stderr = proc.stderr.decode('utf-8')\n",
    "    if stderr.strip():\n",
    "        print(stderr)"
   ]
  },
  {
   "cell_type": "code",
   "execution_count": 8,
   "metadata": {},
   "outputs": [],
   "source": [
    "import os.path"
   ]
  },
  {
   "cell_type": "code",
   "execution_count": 16,
   "metadata": {},
   "outputs": [],
   "source": [
    "def concat_corpora(subcorpora_names, concat_corpus_name, models):\n",
    "    print(\"concatenating corpora: {}\".format(' '.join(subcorpora_names)))\n",
    "\n",
    "    gold_files = [CORPORA_FILES[cn] for cn in subcorpora_names]\n",
    "    \n",
    "    output_gold_file = CORPORA_FILES[concat_corpus_name]\n",
    "\n",
    "    concat(gold_files, output_gold_file)\n",
    "\n",
    "    for model in models:\n",
    "        pred_files = [\n",
    "            get_predicted_file(DECODE_NAME_NORM[cn], model['name']) \n",
    "            for cn in subcorpora_names\n",
    "        ]\n",
    "        missing = False\n",
    "        for f in pred_files:\n",
    "            if not os.path.exists(f):\n",
    "                print('file {} does not exist; skipping model {}'.format(f, model))\n",
    "                missing = True\n",
    "        if not missing:\n",
    "            concat(pred_files, \n",
    "                   get_predicted_file(\n",
    "                       DECODE_NAME_NORM[concat_corpus_name], model['name']\n",
    "                   ))"
   ]
  },
  {
   "cell_type": "code",
   "execution_count": 17,
   "metadata": {},
   "outputs": [
    {
     "name": "stdout",
     "output_type": "stream",
     "text": [
      "concatenating corpora: ewt_answers_dev ewt_answers_test ewt_email_dev ewt_email_test ewt_newsgroup_dev ewt_newsgroup_test ewt_reviews_dev ewt_reviews_test ewt_weblog_dev ewt_weblog_test\n",
      "file ../decodes/ewt-answers.dev-charniak-GENIA+PubMed_pred-tag-replaced.test.txt does not exist; skipping model {'name': 'charniak-GENIA+PubMed', 'parser': 'charniak-GENIA+PubMed', 'seed': 1, 'lex_rep': 'words'}\n",
      "file ../decodes/ewt-answers.test-charniak-GENIA+PubMed_pred-tag-replaced.test.txt does not exist; skipping model {'name': 'charniak-GENIA+PubMed', 'parser': 'charniak-GENIA+PubMed', 'seed': 1, 'lex_rep': 'words'}\n",
      "file ../decodes/ewt-email.dev-charniak-GENIA+PubMed_pred-tag-replaced.test.txt does not exist; skipping model {'name': 'charniak-GENIA+PubMed', 'parser': 'charniak-GENIA+PubMed', 'seed': 1, 'lex_rep': 'words'}\n",
      "file ../decodes/ewt-email.test-charniak-GENIA+PubMed_pred-tag-replaced.test.txt does not exist; skipping model {'name': 'charniak-GENIA+PubMed', 'parser': 'charniak-GENIA+PubMed', 'seed': 1, 'lex_rep': 'words'}\n",
      "file ../decodes/ewt-newsgroup.dev-charniak-GENIA+PubMed_pred-tag-replaced.test.txt does not exist; skipping model {'name': 'charniak-GENIA+PubMed', 'parser': 'charniak-GENIA+PubMed', 'seed': 1, 'lex_rep': 'words'}\n",
      "file ../decodes/ewt-newsgroup.test-charniak-GENIA+PubMed_pred-tag-replaced.test.txt does not exist; skipping model {'name': 'charniak-GENIA+PubMed', 'parser': 'charniak-GENIA+PubMed', 'seed': 1, 'lex_rep': 'words'}\n",
      "file ../decodes/ewt-reviews.dev-charniak-GENIA+PubMed_pred-tag-replaced.test.txt does not exist; skipping model {'name': 'charniak-GENIA+PubMed', 'parser': 'charniak-GENIA+PubMed', 'seed': 1, 'lex_rep': 'words'}\n",
      "file ../decodes/ewt-reviews.test-charniak-GENIA+PubMed_pred-tag-replaced.test.txt does not exist; skipping model {'name': 'charniak-GENIA+PubMed', 'parser': 'charniak-GENIA+PubMed', 'seed': 1, 'lex_rep': 'words'}\n",
      "file ../decodes/ewt-weblog.dev-charniak-GENIA+PubMed_pred-tag-replaced.test.txt does not exist; skipping model {'name': 'charniak-GENIA+PubMed', 'parser': 'charniak-GENIA+PubMed', 'seed': 1, 'lex_rep': 'words'}\n",
      "file ../decodes/ewt-weblog.test-charniak-GENIA+PubMed_pred-tag-replaced.test.txt does not exist; skipping model {'name': 'charniak-GENIA+PubMed', 'parser': 'charniak-GENIA+PubMed', 'seed': 1, 'lex_rep': 'words'}\n"
     ]
    }
   ],
   "source": [
    "concat_corpora(\n",
    "    [corpus_name for corpus_name in ENGLISH_CORPORA_NAMES \n",
    "     if corpus_name.startswith(\"ewt\") and corpus_name != 'ewt_all'],\n",
    "    'ewt_all',\n",
    "    ENGLISH_MODELS\n",
    ")"
   ]
  },
  {
   "cell_type": "code",
   "execution_count": 18,
   "metadata": {},
   "outputs": [
    {
     "name": "stdout",
     "output_type": "stream",
     "text": [
      "concatenating corpora: genia_train genia_dev genia_test\n",
      "file ../decodes/genia-train-charniak-SANCL2012-Uniform_pred-tag-replaced.test.txt does not exist; skipping model {'name': 'charniak-SANCL2012-Uniform', 'parser': 'charniak-SANCL2012-Uniform', 'seed': 1, 'lex_rep': 'words'}\n",
      "file ../decodes/genia-dev-charniak-SANCL2012-Uniform_pred-tag-replaced.test.txt does not exist; skipping model {'name': 'charniak-SANCL2012-Uniform', 'parser': 'charniak-SANCL2012-Uniform', 'seed': 1, 'lex_rep': 'words'}\n",
      "file ../decodes/genia-test-charniak-SANCL2012-Uniform_pred-tag-replaced.test.txt does not exist; skipping model {'name': 'charniak-SANCL2012-Uniform', 'parser': 'charniak-SANCL2012-Uniform', 'seed': 1, 'lex_rep': 'words'}\n",
      "file ../decodes/genia-test-charniak-GENIA+PubMed_pred-tag-replaced.test.txt does not exist; skipping model {'name': 'charniak-GENIA+PubMed', 'parser': 'charniak-GENIA+PubMed', 'seed': 1, 'lex_rep': 'words'}\n"
     ]
    }
   ],
   "source": [
    "concat_corpora(\n",
    "    ['genia_train', 'genia_dev', 'genia_test'],\n",
    "    'genia_all',\n",
    "    ENGLISH_MODELS\n",
    ")"
   ]
  },
  {
   "cell_type": "code",
   "execution_count": 19,
   "metadata": {},
   "outputs": [
    {
     "name": "stdout",
     "output_type": "stream",
     "text": [
      "concatenating corpora: brown_train brown_test\n",
      "file ../decodes/brown-train-charniak-SANCL2012-Uniform_pred-tag-replaced.test.txt does not exist; skipping model {'name': 'charniak-SANCL2012-Uniform', 'parser': 'charniak-SANCL2012-Uniform', 'seed': 1, 'lex_rep': 'words'}\n",
      "file ../decodes/brown-test-charniak-SANCL2012-Uniform_pred-tag-replaced.test.txt does not exist; skipping model {'name': 'charniak-SANCL2012-Uniform', 'parser': 'charniak-SANCL2012-Uniform', 'seed': 1, 'lex_rep': 'words'}\n",
      "file ../decodes/brown-train-charniak-GENIA+PubMed_pred-tag-replaced.test.txt does not exist; skipping model {'name': 'charniak-GENIA+PubMed', 'parser': 'charniak-GENIA+PubMed', 'seed': 1, 'lex_rep': 'words'}\n",
      "file ../decodes/brown-test-charniak-GENIA+PubMed_pred-tag-replaced.test.txt does not exist; skipping model {'name': 'charniak-GENIA+PubMed', 'parser': 'charniak-GENIA+PubMed', 'seed': 1, 'lex_rep': 'words'}\n"
     ]
    }
   ],
   "source": [
    "concat_corpora(\n",
    "    ['brown_train', 'brown_test'],\n",
    "    'brown_all',\n",
    "    ENGLISH_MODELS\n",
    ")"
   ]
  }
 ],
 "metadata": {
  "kernelspec": {
   "display_name": "Python 3",
   "language": "python",
   "name": "python3"
  },
  "language_info": {
   "codemirror_mode": {
    "name": "ipython",
    "version": 3
   },
   "file_extension": ".py",
   "mimetype": "text/x-python",
   "name": "python",
   "nbconvert_exporter": "python",
   "pygments_lexer": "ipython3",
   "version": "3.6.8"
  }
 },
 "nbformat": 4,
 "nbformat_minor": 2
}
