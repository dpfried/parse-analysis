{
 "cells": [
  {
   "cell_type": "code",
   "execution_count": 1,
   "metadata": {},
   "outputs": [],
   "source": [
    "from parsers import SHIFT_REDUCE_MODELS, CHART_MODELS, ALL_MODELS"
   ]
  },
  {
   "cell_type": "code",
   "execution_count": 18,
   "metadata": {},
   "outputs": [],
   "source": [
    "from load_corpora import ENGLISH_CORPORA_NAMES, CORPORA_FILES, DECODE_NAME_NORM"
   ]
  },
  {
   "cell_type": "code",
   "execution_count": 3,
   "metadata": {},
   "outputs": [
    {
     "data": {
      "text/plain": [
       "['brown_cf',\n",
       " 'brown_cg',\n",
       " 'brown_ck',\n",
       " 'brown_cl',\n",
       " 'brown_cm',\n",
       " 'brown_cn',\n",
       " 'brown_cp',\n",
       " 'brown_cr',\n",
       " 'brown_train',\n",
       " 'ewt_answers_dev',\n",
       " 'ewt_answers_test',\n",
       " 'ewt_email_dev',\n",
       " 'ewt_email_test',\n",
       " 'ewt_newsgroup_dev',\n",
       " 'ewt_newsgroup_test',\n",
       " 'ewt_reviews_dev',\n",
       " 'ewt_reviews_test',\n",
       " 'ewt_weblog_dev',\n",
       " 'ewt_weblog_test',\n",
       " 'genia_dev',\n",
       " 'genia_train',\n",
       " 'wsj_dev',\n",
       " 'wsj_test',\n",
       " 'wsj_train']"
      ]
     },
     "execution_count": 3,
     "metadata": {},
     "output_type": "execute_result"
    }
   ],
   "source": [
    "ENGLISH_CORPORA_NAMES"
   ]
  },
  {
   "cell_type": "code",
   "execution_count": 4,
   "metadata": {},
   "outputs": [],
   "source": [
    "from decode_analysis import get_predicted_file"
   ]
  },
  {
   "cell_type": "code",
   "execution_count": 6,
   "metadata": {},
   "outputs": [],
   "source": [
    "import subprocess"
   ]
  },
  {
   "cell_type": "code",
   "execution_count": 16,
   "metadata": {},
   "outputs": [],
   "source": [
    "def concat(input_files, output_file):\n",
    "    command = \"cat {} > {}\".format(' '.join(input_files), output_file)\n",
    "    #print(command)\n",
    "    proc = subprocess.run(command, shell=True, stderr=subprocess.PIPE)\n",
    "    stderr = proc.stderr.decode('utf-8')\n",
    "    if stderr.strip():\n",
    "        print(stderr)"
   ]
  },
  {
   "cell_type": "code",
   "execution_count": 21,
   "metadata": {},
   "outputs": [],
   "source": [
    "import os.path"
   ]
  },
  {
   "cell_type": "code",
   "execution_count": 23,
   "metadata": {},
   "outputs": [
    {
     "name": "stdout",
     "output_type": "stream",
     "text": [
      "concatenating corpora: ewt_answers_dev ewt_answers_test ewt_email_dev ewt_email_test ewt_newsgroup_dev ewt_newsgroup_test ewt_reviews_dev ewt_reviews_test ewt_weblog_dev ewt_weblog_test\n",
      "file ../decodes/ewt-answers.dev-chart-seed=4_pred-tag-replaced.test.txt does not exist; skipping model {'name': 'chart-seed=4', 'parser': 'chart', 'seed': 4, 'lex_rep': 'bert'}\n",
      "file ../decodes/ewt-answers.test-chart-seed=4_pred-tag-replaced.test.txt does not exist; skipping model {'name': 'chart-seed=4', 'parser': 'chart', 'seed': 4, 'lex_rep': 'bert'}\n",
      "file ../decodes/ewt-email.dev-chart-seed=4_pred-tag-replaced.test.txt does not exist; skipping model {'name': 'chart-seed=4', 'parser': 'chart', 'seed': 4, 'lex_rep': 'bert'}\n",
      "file ../decodes/ewt-email.test-chart-seed=4_pred-tag-replaced.test.txt does not exist; skipping model {'name': 'chart-seed=4', 'parser': 'chart', 'seed': 4, 'lex_rep': 'bert'}\n",
      "file ../decodes/ewt-newsgroup.dev-chart-seed=4_pred-tag-replaced.test.txt does not exist; skipping model {'name': 'chart-seed=4', 'parser': 'chart', 'seed': 4, 'lex_rep': 'bert'}\n",
      "file ../decodes/ewt-newsgroup.test-chart-seed=4_pred-tag-replaced.test.txt does not exist; skipping model {'name': 'chart-seed=4', 'parser': 'chart', 'seed': 4, 'lex_rep': 'bert'}\n",
      "file ../decodes/ewt-reviews.dev-chart-seed=4_pred-tag-replaced.test.txt does not exist; skipping model {'name': 'chart-seed=4', 'parser': 'chart', 'seed': 4, 'lex_rep': 'bert'}\n",
      "file ../decodes/ewt-reviews.test-chart-seed=4_pred-tag-replaced.test.txt does not exist; skipping model {'name': 'chart-seed=4', 'parser': 'chart', 'seed': 4, 'lex_rep': 'bert'}\n",
      "file ../decodes/ewt-weblog.dev-chart-seed=4_pred-tag-replaced.test.txt does not exist; skipping model {'name': 'chart-seed=4', 'parser': 'chart', 'seed': 4, 'lex_rep': 'bert'}\n",
      "file ../decodes/ewt-weblog.test-chart-seed=4_pred-tag-replaced.test.txt does not exist; skipping model {'name': 'chart-seed=4', 'parser': 'chart', 'seed': 4, 'lex_rep': 'bert'}\n",
      "file ../decodes/ewt-answers.dev-chart-seed=5_pred-tag-replaced.test.txt does not exist; skipping model {'name': 'chart-seed=5', 'parser': 'chart', 'seed': 5, 'lex_rep': 'bert'}\n",
      "file ../decodes/ewt-answers.test-chart-seed=5_pred-tag-replaced.test.txt does not exist; skipping model {'name': 'chart-seed=5', 'parser': 'chart', 'seed': 5, 'lex_rep': 'bert'}\n",
      "file ../decodes/ewt-email.dev-chart-seed=5_pred-tag-replaced.test.txt does not exist; skipping model {'name': 'chart-seed=5', 'parser': 'chart', 'seed': 5, 'lex_rep': 'bert'}\n",
      "file ../decodes/ewt-email.test-chart-seed=5_pred-tag-replaced.test.txt does not exist; skipping model {'name': 'chart-seed=5', 'parser': 'chart', 'seed': 5, 'lex_rep': 'bert'}\n",
      "file ../decodes/ewt-newsgroup.dev-chart-seed=5_pred-tag-replaced.test.txt does not exist; skipping model {'name': 'chart-seed=5', 'parser': 'chart', 'seed': 5, 'lex_rep': 'bert'}\n",
      "file ../decodes/ewt-newsgroup.test-chart-seed=5_pred-tag-replaced.test.txt does not exist; skipping model {'name': 'chart-seed=5', 'parser': 'chart', 'seed': 5, 'lex_rep': 'bert'}\n",
      "file ../decodes/ewt-reviews.dev-chart-seed=5_pred-tag-replaced.test.txt does not exist; skipping model {'name': 'chart-seed=5', 'parser': 'chart', 'seed': 5, 'lex_rep': 'bert'}\n",
      "file ../decodes/ewt-reviews.test-chart-seed=5_pred-tag-replaced.test.txt does not exist; skipping model {'name': 'chart-seed=5', 'parser': 'chart', 'seed': 5, 'lex_rep': 'bert'}\n",
      "file ../decodes/ewt-weblog.dev-chart-seed=5_pred-tag-replaced.test.txt does not exist; skipping model {'name': 'chart-seed=5', 'parser': 'chart', 'seed': 5, 'lex_rep': 'bert'}\n",
      "file ../decodes/ewt-weblog.test-chart-seed=5_pred-tag-replaced.test.txt does not exist; skipping model {'name': 'chart-seed=5', 'parser': 'chart', 'seed': 5, 'lex_rep': 'bert'}\n",
      "file ../decodes/ewt-weblog.test-inorder-emb-pos-seed=4-beam=10_pred-tag-replaced.test.txt does not exist; skipping model {'name': 'inorder-emb-pos-seed=4-beam=10', 'parser': 'inorder', 'seed': 4, 'beam_size': 10, 'lex_rep': 'emb-pos'}\n",
      "file ../decodes/ewt-weblog.test-inorder-emb-pos-seed=5-beam=10_pred-tag-replaced.test.txt does not exist; skipping model {'name': 'inorder-emb-pos-seed=5-beam=10', 'parser': 'inorder', 'seed': 5, 'beam_size': 10, 'lex_rep': 'emb-pos'}\n",
      "file ../decodes/ewt-weblog.test-topdown-emb-pos-seed=4-beam=10_pred-tag-replaced.test.txt does not exist; skipping model {'name': 'topdown-emb-pos-seed=4-beam=10', 'parser': 'topdown', 'seed': 4, 'beam_size': 10, 'lex_rep': 'emb-pos'}\n",
      "file ../decodes/ewt-weblog.test-topdown-emb-pos-seed=5-beam=10_pred-tag-replaced.test.txt does not exist; skipping model {'name': 'topdown-emb-pos-seed=5-beam=10', 'parser': 'topdown', 'seed': 5, 'beam_size': 10, 'lex_rep': 'emb-pos'}\n"
     ]
    }
   ],
   "source": [
    "# ewt\n",
    "matching_corpora = [corpus_name \n",
    "                    for corpus_name in ENGLISH_CORPORA_NAMES \n",
    "                    if corpus_name.startswith(\"ewt\") and corpus_name != 'ewt_all']\n",
    "print(\"concatenating corpora: {}\".format(' '.join(matching_corpora)))\n",
    "\n",
    "gold_files = [CORPORA_FILES[cn] for cn in matching_corpora]\n",
    "\n",
    "concat(gold_files, '../corpora/ewt/all.gold.stripped')\n",
    "\n",
    "for model in ALL_MODELS:\n",
    "    pred_files = [get_predicted_file(DECODE_NAME_NORM[cn], model['name']) for cn in matching_corpora]\n",
    "    missing = False\n",
    "    for f in pred_files:\n",
    "        if not os.path.exists(f):\n",
    "            print('file {} does not exist; skipping model {}'.format(f, model))\n",
    "            missing = True\n",
    "    if not missing:\n",
    "        concat(pred_files, get_predicted_file('ewt-all', model['name']))"
   ]
  }
 ],
 "metadata": {
  "kernelspec": {
   "display_name": "Python 3",
   "language": "python",
   "name": "python3"
  },
  "language_info": {
   "codemirror_mode": {
    "name": "ipython",
    "version": 3
   },
   "file_extension": ".py",
   "mimetype": "text/x-python",
   "name": "python",
   "nbconvert_exporter": "python",
   "pygments_lexer": "ipython3",
   "version": "3.6.8"
  }
 },
 "nbformat": 4,
 "nbformat_minor": 2
}
