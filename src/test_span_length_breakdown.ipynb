{
 "cells": [
  {
   "cell_type": "code",
   "execution_count": 1,
   "metadata": {},
   "outputs": [],
   "source": [
    "from parsers import SHIFT_REDUCE_MODELS, CHART_MODELS, ALL_MODELS"
   ]
  },
  {
   "cell_type": "code",
   "execution_count": 2,
   "metadata": {},
   "outputs": [],
   "source": [
    "from load_corpora import ENGLISH_CORPORA_NAMES"
   ]
  },
  {
   "cell_type": "code",
   "execution_count": 3,
   "metadata": {},
   "outputs": [
    {
     "data": {
      "text/plain": [
       "[{'name': 'chart-seed=1', 'parser': 'chart', 'seed': 1, 'lex_rep': 'bert'},\n",
       " {'name': 'chart-seed=2', 'parser': 'chart', 'seed': 2, 'lex_rep': 'bert'},\n",
       " {'name': 'chart-seed=3', 'parser': 'chart', 'seed': 3, 'lex_rep': 'bert'},\n",
       " {'name': 'chart-seed=4', 'parser': 'chart', 'seed': 4, 'lex_rep': 'bert'},\n",
       " {'name': 'chart-seed=5', 'parser': 'chart', 'seed': 5, 'lex_rep': 'bert'},\n",
       " {'name': 'chartlstm-seed=1',\n",
       "  'parser': 'chartlstm',\n",
       "  'seed': 1,\n",
       "  'lex_rep': 'lstm'},\n",
       " {'name': 'chartlstm-seed=2',\n",
       "  'parser': 'chartlstm',\n",
       "  'seed': 2,\n",
       "  'lex_rep': 'lstm'},\n",
       " {'name': 'chartlstm-seed=3',\n",
       "  'parser': 'chartlstm',\n",
       "  'seed': 3,\n",
       "  'lex_rep': 'lstm'},\n",
       " {'name': 'chartlstm-seed=4',\n",
       "  'parser': 'chartlstm',\n",
       "  'seed': 4,\n",
       "  'lex_rep': 'lstm'},\n",
       " {'name': 'chartlstm-seed=5',\n",
       "  'parser': 'chartlstm',\n",
       "  'seed': 5,\n",
       "  'lex_rep': 'lstm'},\n",
       " {'name': 'inorder-bert-seed=1-beam=10',\n",
       "  'parser': 'inorder',\n",
       "  'seed': 1,\n",
       "  'beam_size': 10,\n",
       "  'lex_rep': 'bert'},\n",
       " {'name': 'inorder-bert-seed=2-beam=10',\n",
       "  'parser': 'inorder',\n",
       "  'seed': 2,\n",
       "  'beam_size': 10,\n",
       "  'lex_rep': 'bert'},\n",
       " {'name': 'inorder-bert-seed=3-beam=10',\n",
       "  'parser': 'inorder',\n",
       "  'seed': 3,\n",
       "  'beam_size': 10,\n",
       "  'lex_rep': 'bert'},\n",
       " {'name': 'inorder-bert-seed=4-beam=10',\n",
       "  'parser': 'inorder',\n",
       "  'seed': 4,\n",
       "  'beam_size': 10,\n",
       "  'lex_rep': 'bert'},\n",
       " {'name': 'inorder-bert-seed=5-beam=10',\n",
       "  'parser': 'inorder',\n",
       "  'seed': 5,\n",
       "  'beam_size': 10,\n",
       "  'lex_rep': 'bert'},\n",
       " {'name': 'inorder-pos-seed=1-beam=10',\n",
       "  'parser': 'inorder',\n",
       "  'seed': 1,\n",
       "  'beam_size': 10,\n",
       "  'lex_rep': 'pos'},\n",
       " {'name': 'inorder-pos-seed=2-beam=10',\n",
       "  'parser': 'inorder',\n",
       "  'seed': 2,\n",
       "  'beam_size': 10,\n",
       "  'lex_rep': 'pos'},\n",
       " {'name': 'inorder-pos-seed=3-beam=10',\n",
       "  'parser': 'inorder',\n",
       "  'seed': 3,\n",
       "  'beam_size': 10,\n",
       "  'lex_rep': 'pos'},\n",
       " {'name': 'inorder-pos-seed=4-beam=10',\n",
       "  'parser': 'inorder',\n",
       "  'seed': 4,\n",
       "  'beam_size': 10,\n",
       "  'lex_rep': 'pos'},\n",
       " {'name': 'inorder-pos-seed=5-beam=10',\n",
       "  'parser': 'inorder',\n",
       "  'seed': 5,\n",
       "  'beam_size': 10,\n",
       "  'lex_rep': 'pos'},\n",
       " {'name': 'inorder-emb-pos-seed=1-beam=10',\n",
       "  'parser': 'inorder',\n",
       "  'seed': 1,\n",
       "  'beam_size': 10,\n",
       "  'lex_rep': 'emb-pos'},\n",
       " {'name': 'inorder-emb-pos-seed=2-beam=10',\n",
       "  'parser': 'inorder',\n",
       "  'seed': 2,\n",
       "  'beam_size': 10,\n",
       "  'lex_rep': 'emb-pos'},\n",
       " {'name': 'inorder-emb-pos-seed=3-beam=10',\n",
       "  'parser': 'inorder',\n",
       "  'seed': 3,\n",
       "  'beam_size': 10,\n",
       "  'lex_rep': 'emb-pos'},\n",
       " {'name': 'inorder-emb-pos-seed=4-beam=10',\n",
       "  'parser': 'inorder',\n",
       "  'seed': 4,\n",
       "  'beam_size': 10,\n",
       "  'lex_rep': 'emb-pos'},\n",
       " {'name': 'inorder-emb-pos-seed=5-beam=10',\n",
       "  'parser': 'inorder',\n",
       "  'seed': 5,\n",
       "  'beam_size': 10,\n",
       "  'lex_rep': 'emb-pos'},\n",
       " {'name': 'topdown-bert-seed=1-beam=10',\n",
       "  'parser': 'topdown',\n",
       "  'seed': 1,\n",
       "  'beam_size': 10,\n",
       "  'lex_rep': 'bert'},\n",
       " {'name': 'topdown-bert-seed=2-beam=10',\n",
       "  'parser': 'topdown',\n",
       "  'seed': 2,\n",
       "  'beam_size': 10,\n",
       "  'lex_rep': 'bert'},\n",
       " {'name': 'topdown-bert-seed=3-beam=10',\n",
       "  'parser': 'topdown',\n",
       "  'seed': 3,\n",
       "  'beam_size': 10,\n",
       "  'lex_rep': 'bert'},\n",
       " {'name': 'topdown-bert-seed=4-beam=10',\n",
       "  'parser': 'topdown',\n",
       "  'seed': 4,\n",
       "  'beam_size': 10,\n",
       "  'lex_rep': 'bert'},\n",
       " {'name': 'topdown-bert-seed=5-beam=10',\n",
       "  'parser': 'topdown',\n",
       "  'seed': 5,\n",
       "  'beam_size': 10,\n",
       "  'lex_rep': 'bert'},\n",
       " {'name': 'topdown-pos-seed=1-beam=10',\n",
       "  'parser': 'topdown',\n",
       "  'seed': 1,\n",
       "  'beam_size': 10,\n",
       "  'lex_rep': 'pos'},\n",
       " {'name': 'topdown-pos-seed=2-beam=10',\n",
       "  'parser': 'topdown',\n",
       "  'seed': 2,\n",
       "  'beam_size': 10,\n",
       "  'lex_rep': 'pos'},\n",
       " {'name': 'topdown-pos-seed=3-beam=10',\n",
       "  'parser': 'topdown',\n",
       "  'seed': 3,\n",
       "  'beam_size': 10,\n",
       "  'lex_rep': 'pos'},\n",
       " {'name': 'topdown-pos-seed=4-beam=10',\n",
       "  'parser': 'topdown',\n",
       "  'seed': 4,\n",
       "  'beam_size': 10,\n",
       "  'lex_rep': 'pos'},\n",
       " {'name': 'topdown-pos-seed=5-beam=10',\n",
       "  'parser': 'topdown',\n",
       "  'seed': 5,\n",
       "  'beam_size': 10,\n",
       "  'lex_rep': 'pos'},\n",
       " {'name': 'topdown-emb-pos-seed=1-beam=10',\n",
       "  'parser': 'topdown',\n",
       "  'seed': 1,\n",
       "  'beam_size': 10,\n",
       "  'lex_rep': 'emb-pos'},\n",
       " {'name': 'topdown-emb-pos-seed=2-beam=10',\n",
       "  'parser': 'topdown',\n",
       "  'seed': 2,\n",
       "  'beam_size': 10,\n",
       "  'lex_rep': 'emb-pos'},\n",
       " {'name': 'topdown-emb-pos-seed=3-beam=10',\n",
       "  'parser': 'topdown',\n",
       "  'seed': 3,\n",
       "  'beam_size': 10,\n",
       "  'lex_rep': 'emb-pos'},\n",
       " {'name': 'topdown-emb-pos-seed=4-beam=10',\n",
       "  'parser': 'topdown',\n",
       "  'seed': 4,\n",
       "  'beam_size': 10,\n",
       "  'lex_rep': 'emb-pos'},\n",
       " {'name': 'topdown-emb-pos-seed=5-beam=10',\n",
       "  'parser': 'topdown',\n",
       "  'seed': 5,\n",
       "  'beam_size': 10,\n",
       "  'lex_rep': 'emb-pos'}]"
      ]
     },
     "execution_count": 3,
     "metadata": {},
     "output_type": "execute_result"
    }
   ],
   "source": [
    "ALL_MODELS"
   ]
  },
  {
   "cell_type": "code",
   "execution_count": 5,
   "metadata": {},
   "outputs": [],
   "source": [
    "from decode_analysis import get_decode_stats, plot"
   ]
  },
  {
   "cell_type": "code",
   "execution_count": 6,
   "metadata": {
    "scrolled": true
   },
   "outputs": [
    {
     "name": "stdout",
     "output_type": "stream",
     "text": [
      "\n",
      "genia_train: chart-seed=1\n",
      "\n",
      "genia_train: inorder-bert-seed=1-beam=10\n",
      "\n",
      "genia_train: inorder-pos-seed=1-beam=10\n",
      "\n",
      "genia_train: inorder-emb-pos-seed=1-beam=10\n"
     ]
    }
   ],
   "source": [
    "decode_stats = get_decode_stats([model for model in ALL_MODELS if model['seed'] == 1 and model['parser'] in ['chart', 'inorder']], corpora_names=['genia_train'], include_length_analysis=False)"
   ]
  },
  {
   "cell_type": "code",
   "execution_count": 7,
   "metadata": {},
   "outputs": [],
   "source": [
    "chart_model = decode_stats[0]\n",
    "inorder_model = decode_stats[1]"
   ]
  },
  {
   "cell_type": "code",
   "execution_count": 8,
   "metadata": {},
   "outputs": [
    {
     "data": {
      "text/plain": [
       "{'name': 'chart-seed=1',\n",
       " 'parser': 'chart',\n",
       " 'seed': 1,\n",
       " 'lex_rep': 'bert',\n",
       " 'recall': 84.9,\n",
       " 'precision': 91.08,\n",
       " 'fscore': 87.88,\n",
       " 'complete_match': 18.89,\n",
       " 'tagging_accuracy': 100.0,\n",
       " 'error_count': 0,\n",
       " 'skip_count': 0,\n",
       " 'corpus_name': 'genia_train',\n",
       " 'gold_file': '/home/dfried/projects/parse-analysis/src/../corpora/genia/train.gold.stripped',\n",
       " 'pred_file': '../decodes/genia-train-chart-seed=1_pred-tag-replaced.test.txt'}"
      ]
     },
     "execution_count": 8,
     "metadata": {},
     "output_type": "execute_result"
    }
   ],
   "source": [
    "chart_model"
   ]
  },
  {
   "cell_type": "code",
   "execution_count": 9,
   "metadata": {},
   "outputs": [],
   "source": [
    "import evaluate"
   ]
  },
  {
   "cell_type": "code",
   "execution_count": 10,
   "metadata": {},
   "outputs": [
    {
     "name": "stdout",
     "output_type": "stream",
     "text": [
      "(Recall=84.90, Precision=91.08, FScore=87.88, CompleteMatch=18.89)\n"
     ]
    }
   ],
   "source": [
    "print(evaluate.evalb_from_files(\n",
    "    chart_model['pred_file'], chart_model['gold_file']\n",
    ")[0])"
   ]
  },
  {
   "cell_type": "code",
   "execution_count": 11,
   "metadata": {},
   "outputs": [
    {
     "name": "stdout",
     "output_type": "stream",
     "text": [
      "(Recall=84.80, Precision=91.53, FScore=88.04, CompleteMatch=19.22)\n"
     ]
    }
   ],
   "source": [
    "print(evaluate.evalb_from_files(\n",
    "    inorder_model['pred_file'], inorder_model['gold_file']\n",
    ")[0])"
   ]
  },
  {
   "cell_type": "code",
   "execution_count": 12,
   "metadata": {},
   "outputs": [],
   "source": [
    "assert(inorder_model['gold_file'] == chart_model['gold_file'])"
   ]
  },
  {
   "cell_type": "code",
   "execution_count": 13,
   "metadata": {},
   "outputs": [],
   "source": [
    "import trees"
   ]
  },
  {
   "cell_type": "code",
   "execution_count": 14,
   "metadata": {},
   "outputs": [],
   "source": [
    "gold_trees = trees.load_trees(chart_model['gold_file'])"
   ]
  },
  {
   "cell_type": "code",
   "execution_count": 15,
   "metadata": {},
   "outputs": [],
   "source": [
    "chart_trees = trees.load_trees(chart_model['pred_file'])"
   ]
  },
  {
   "cell_type": "code",
   "execution_count": 16,
   "metadata": {},
   "outputs": [],
   "source": [
    "inorder_trees = trees.load_trees(inorder_model['pred_file'])"
   ]
  },
  {
   "cell_type": "code",
   "execution_count": 17,
   "metadata": {},
   "outputs": [],
   "source": [
    "import span_length_breakdown"
   ]
  },
  {
   "cell_type": "code",
   "execution_count": 18,
   "metadata": {},
   "outputs": [],
   "source": [
    "import matplotlib.pyplot as plt"
   ]
  },
  {
   "cell_type": "code",
   "execution_count": 19,
   "metadata": {},
   "outputs": [
    {
     "name": "stdout",
     "output_type": "stream",
     "text": [
      "Automatic pdb calling has been turned ON\n"
     ]
    }
   ],
   "source": [
    "pdb on"
   ]
  },
  {
   "cell_type": "code",
   "execution_count": 20,
   "metadata": {},
   "outputs": [],
   "source": [
    "xs, fs, ms, rs, gc, ps, pc = span_length_breakdown.get_span_f1s_gte(gold_trees, inorder_trees)"
   ]
  },
  {
   "cell_type": "code",
   "execution_count": 21,
   "metadata": {},
   "outputs": [
    {
     "data": {
      "text/plain": [
       "251387"
      ]
     },
     "execution_count": 21,
     "metadata": {},
     "output_type": "execute_result"
    }
   ],
   "source": [
    "ms[0]"
   ]
  },
  {
   "cell_type": "code",
   "execution_count": 22,
   "metadata": {},
   "outputs": [
    {
     "data": {
      "text/plain": [
       "274642"
      ]
     },
     "execution_count": 22,
     "metadata": {},
     "output_type": "execute_result"
    }
   ],
   "source": [
    "pc[0]"
   ]
  },
  {
   "cell_type": "code",
   "execution_count": 23,
   "metadata": {},
   "outputs": [
    {
     "data": {
      "text/plain": [
       "0.8479683462750204"
      ]
     },
     "execution_count": 23,
     "metadata": {},
     "output_type": "execute_result"
    }
   ],
   "source": [
    "rs[0]"
   ]
  },
  {
   "cell_type": "code",
   "execution_count": 24,
   "metadata": {},
   "outputs": [
    {
     "data": {
      "text/plain": [
       "0.9153261336576343"
      ]
     },
     "execution_count": 24,
     "metadata": {},
     "output_type": "execute_result"
    }
   ],
   "source": [
    "ps[0]"
   ]
  },
  {
   "cell_type": "code",
   "execution_count": 25,
   "metadata": {},
   "outputs": [
    {
     "data": {
      "text/plain": [
       "0.8803607074067589"
      ]
     },
     "execution_count": 25,
     "metadata": {},
     "output_type": "execute_result"
    }
   ],
   "source": [
    "fs[0]"
   ]
  },
  {
   "cell_type": "code",
   "execution_count": 26,
   "metadata": {},
   "outputs": [
    {
     "data": {
      "image/png": "[encoded data removed]",
      "text/plain": [
       "<Figure size 432x288 with 1 Axes>"
      ]
     },
     "metadata": {
      "needs_background": "light"
     },
     "output_type": "display_data"
    }
   ],
   "source": [
    "for name, pred_trees in [('chart', chart_trees), ('inorder', inorder_trees)]:\n",
    "    xs, fs, mc, rs, gc, ps, pc = span_length_breakdown.get_span_f1s_gte(gold_trees, pred_trees)\n",
    "    plt.plot(xs, fs, label=name)\n",
    "plt.legend()\n",
    "plt.show()"
   ]
  }
 ],
 "metadata": {
  "kernelspec": {
   "display_name": "Python 3",
   "language": "python",
   "name": "python3"
  },
  "language_info": {
   "codemirror_mode": {
    "name": "ipython",
    "version": 3
   },
   "file_extension": ".py",
   "mimetype": "text/x-python",
   "name": "python",
   "nbconvert_exporter": "python",
   "pygments_lexer": "ipython3",
   "version": "3.6.8"
  }
 },
 "nbformat": 4,
 "nbformat_minor": 2
}
